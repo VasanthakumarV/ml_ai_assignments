{
 "cells": [
  {
   "cell_type": "markdown",
   "metadata": {},
   "source": [
    "# Telecom Churn - Case Study\n",
    "\n",
    "In this project, we have analysed customer-level data of a leading telecom firm to build a predictive model that identifies customers at high risk of churn and identify the main indicators of churn.\n",
    "\n",
    "**Notebook execution time:** 45mins approx\n",
    "\n",
    "**System spec:** 15.5GB RAM, Intel® Core™ i7-8550U CPU @ 1.80GHz × 8 core Processor"
   ]
  },
  {
   "cell_type": "code",
   "execution_count": 1,
   "metadata": {},
   "outputs": [
    {
     "name": "stderr",
     "output_type": "stream",
     "text": [
      "/home/vasanthakumar/.local/share/virtualenvs/ml_ai_assignments-ghdOUA_r/lib/python3.7/site-packages/sklearn/externals/six.py:31: DeprecationWarning: The module is deprecated in version 0.21 and will be removed in version 0.23 since we've dropped support for Python 2.7. Please rely on the official version of six (https://pypi.org/project/six/).\n",
      "  \"(https://pypi.org/project/six/).\", DeprecationWarning)\n",
      "Using TensorFlow backend.\n"
     ]
    }
   ],
   "source": [
    "import pandas as pd\n",
    "import numpy as np\n",
    "\n",
    "# plotting libraries\n",
    "import matplotlib.pyplot as plt\n",
    "import seaborn as sns\n",
    "%matplotlib inline\n",
    "\n",
    "# for imputing missing values\n",
    "from fancyimpute import IterativeImputer\n",
    "\n",
    "# to handle class imbalance\n",
    "from imblearn.over_sampling import SMOTE\n",
    "\n",
    "# splitting data and cross validation\n",
    "from sklearn.model_selection import train_test_split\n",
    "from sklearn.model_selection import GridSearchCV\n",
    "\n",
    "# scaling features\n",
    "from sklearn.preprocessing import StandardScaler\n",
    "\n",
    "# dimensionality reduction\n",
    "from sklearn.decomposition import PCA\n",
    "\n",
    "# different modelling techniques\n",
    "from sklearn import svm\n",
    "from sklearn.linear_model import LogisticRegression\n",
    "from sklearn.naive_bayes import GaussianNB\n",
    "from sklearn.tree import DecisionTreeClassifier\n",
    "from xgboost import XGBClassifier\n",
    "\n",
    "# for scoring results\n",
    "from sklearn.metrics import classification_report, roc_auc_score, recall_score\n",
    "\n",
    "import warnings\n",
    "warnings.filterwarnings(\"ignore\")"
   ]
  },
  {
   "cell_type": "code",
   "execution_count": 2,
   "metadata": {},
   "outputs": [
    {
     "data": {
      "text/plain": [
       "(99999, 226)"
      ]
     },
     "execution_count": 2,
     "metadata": {},
     "output_type": "execute_result"
    }
   ],
   "source": [
    "# reading in the data and looking at its shape\n",
    "churn = pd.read_csv('telecom_churn_data.csv')\n",
    "churn.shape"
   ]
  },
  {
   "cell_type": "code",
   "execution_count": 3,
   "metadata": {},
   "outputs": [],
   "source": [
    "# making sure that the table is unique at a customer mobile number level\n",
    "assert len(churn['mobile_number'].unique()) == churn.shape[0], 'churn df not unique at phone num'"
   ]
  },
  {
   "cell_type": "markdown",
   "metadata": {},
   "source": [
    "## Creating Churn Column"
   ]
  },
  {
   "cell_type": "markdown",
   "metadata": {},
   "source": [
    "Tagging the churned customers (churn=1, else 0) based on the fourth month as follows: Those who have not made any calls (either incoming or outgoing) AND have not used mobile internet even once in the churn phase. The attributes used to tag churners are:\n",
    "\n",
    "* total_ic_mou_9\n",
    "* total_og_mou_9\n",
    "* vol_2g_mb_9\n",
    "* vol_3g_mb_9"
   ]
  },
  {
   "cell_type": "code",
   "execution_count": 4,
   "metadata": {},
   "outputs": [],
   "source": [
    "churn_identifiers = ['total_ic_mou_9', 'total_og_mou_9', 'vol_2g_mb_9', 'vol_3g_mb_9']\n",
    "churn['churn'] = (churn[churn_identifiers].sum(axis='columns', skipna=True) == 0).astype(int)"
   ]
  },
  {
   "cell_type": "markdown",
   "metadata": {},
   "source": [
    "## Filtering for High Value Customers"
   ]
  },
  {
   "cell_type": "markdown",
   "metadata": {},
   "source": [
    "We need to predict churn only for the high-value customers. High-value customers are: Those who have recharged with an amount more than or equal to X, where X is the 70th percentile of the average recharge amount in the first two months (the good phase)."
   ]
  },
  {
   "cell_type": "code",
   "execution_count": 5,
   "metadata": {},
   "outputs": [
    {
     "data": {
      "text/plain": [
       "(30011, 227)"
      ]
     },
     "execution_count": 5,
     "metadata": {},
     "output_type": "execute_result"
    }
   ],
   "source": [
    "high_value_cust = ['total_rech_amt_6', 'total_rech_amt_7']\n",
    "good_months_avg = churn[high_value_cust].mean(axis='columns')\n",
    "avg_rech_70 = good_months_avg.quantile(0.7)\n",
    "churn_high_value = churn[good_months_avg >= avg_rech_70]\n",
    "churn_high_value.shape"
   ]
  },
  {
   "cell_type": "markdown",
   "metadata": {},
   "source": [
    "## Datatype Conversion"
   ]
  },
  {
   "cell_type": "markdown",
   "metadata": {},
   "source": [
    "All date columns are identified and converted to their respective datetime format."
   ]
  },
  {
   "cell_type": "code",
   "execution_count": 6,
   "metadata": {},
   "outputs": [],
   "source": [
    "# WARNING: Do not change the order of the below list\n",
    "date_columns = ['last_date_of_month_6', 'last_date_of_month_7', 'last_date_of_month_8',\n",
    "'last_date_of_month_9', 'date_of_last_rech_6', 'date_of_last_rech_7',\n",
    "'date_of_last_rech_8', 'date_of_last_rech_9', 'date_of_last_rech_data_6',\n",
    "'date_of_last_rech_data_7', 'date_of_last_rech_data_8', 'date_of_last_rech_data_9']\n",
    "\n",
    "for col in date_columns:\n",
    "    churn_high_value[col] = pd.to_datetime(churn_high_value[col], format='%m/%d/%Y')"
   ]
  },
  {
   "cell_type": "markdown",
   "metadata": {},
   "source": [
    "## Feature Generation"
   ]
  },
  {
   "cell_type": "markdown",
   "metadata": {},
   "source": [
    "Recency of data and mobile recharge is calculated from the last date of the month feature and last date of data and mobile recharge."
   ]
  },
  {
   "cell_type": "code",
   "execution_count": 7,
   "metadata": {},
   "outputs": [],
   "source": [
    "for i, (j, k) in enumerate(zip(date_columns[:4], date_columns[4:8])):\n",
    "    churn_high_value['rech_recency_'+str(i+6)] = (churn_high_value[j] - churn_high_value[k]).dt.days\n",
    "    \n",
    "for i, (j, k) in enumerate(zip(date_columns[:4], date_columns[8:])):\n",
    "    churn_high_value['data_rech_recency_'+str(i+6)] = (churn_high_value[j] - churn_high_value[k]).dt.days"
   ]
  },
  {
   "cell_type": "markdown",
   "metadata": {},
   "source": [
    "## Dropping columns"
   ]
  },
  {
   "cell_type": "markdown",
   "metadata": {},
   "source": [
    "Dropping off all the date columns, KPIs of month 9 and other unnecessary columns."
   ]
  },
  {
   "cell_type": "code",
   "execution_count": 8,
   "metadata": {},
   "outputs": [
    {
     "data": {
      "text/plain": [
       "(30011, 168)"
      ]
     },
     "execution_count": 8,
     "metadata": {},
     "output_type": "execute_result"
    }
   ],
   "source": [
    "cols_with_nine = [col for col in churn_high_value.columns if '_9' in col]\n",
    "columns_to_drop = ['mobile_number', 'circle_id'] + date_columns + cols_with_nine\n",
    "churn_high_value = churn_high_value.drop(columns_to_drop, axis='columns')\n",
    "churn_high_value.shape"
   ]
  },
  {
   "cell_type": "markdown",
   "metadata": {},
   "source": [
    "## Missing Values"
   ]
  },
  {
   "cell_type": "markdown",
   "metadata": {},
   "source": [
    "Columns with more than 20% missing values are dropped off."
   ]
  },
  {
   "cell_type": "code",
   "execution_count": 9,
   "metadata": {},
   "outputs": [],
   "source": [
    "missing_thresh = 20\n",
    "\n",
    "percent_missing = churn_high_value.isnull().sum() * 100 / len(churn_high_value)\n",
    "missing_value_df = pd.DataFrame({'col_name': churn_high_value.columns, 'percent_missing': percent_missing})\n",
    "cols_above_missing_thresh = missing_value_df[missing_value_df.percent_missing > missing_thresh].col_name.values"
   ]
  },
  {
   "cell_type": "code",
   "execution_count": 10,
   "metadata": {},
   "outputs": [
    {
     "data": {
      "text/plain": [
       "(30011, 138)"
      ]
     },
     "execution_count": 10,
     "metadata": {},
     "output_type": "execute_result"
    }
   ],
   "source": [
    "churn_high_value = churn_high_value.drop(cols_above_missing_thresh, axis='columns')\n",
    "churn_high_value.shape"
   ]
  },
  {
   "cell_type": "markdown",
   "metadata": {},
   "source": [
    "Fancy impute library is utilized to fill in the missing values.\n",
    "\n",
    "**Execution time:** 1min approx"
   ]
  },
  {
   "cell_type": "code",
   "execution_count": 11,
   "metadata": {},
   "outputs": [
    {
     "name": "stdout",
     "output_type": "stream",
     "text": [
      "CPU times: user 3min 40s, sys: 1min 42s, total: 5min 23s\n",
      "Wall time: 41.2 s\n"
     ]
    }
   ],
   "source": [
    "%%time\n",
    "\n",
    "imputer = IterativeImputer(n_iter=1, sample_posterior=True, random_state=42)\n",
    "churn_complete = imputer.fit_transform(churn_high_value)\n",
    "churn_high_value = pd.DataFrame(churn_complete, columns=churn_high_value.columns)"
   ]
  },
  {
   "cell_type": "markdown",
   "metadata": {},
   "source": [
    "## Class Imbalance"
   ]
  },
  {
   "cell_type": "markdown",
   "metadata": {},
   "source": [
    "There is class imbalance in the given data set."
   ]
  },
  {
   "cell_type": "code",
   "execution_count": 12,
   "metadata": {},
   "outputs": [
    {
     "data": {
      "text/plain": [
       "0.0    91.359835\n",
       "1.0     8.640165\n",
       "Name: churn, dtype: float64"
      ]
     },
     "execution_count": 12,
     "metadata": {},
     "output_type": "execute_result"
    }
   ],
   "source": [
    "(churn_high_value['churn'].value_counts() / churn_high_value.shape[0])*100"
   ]
  },
  {
   "cell_type": "markdown",
   "metadata": {},
   "source": [
    "Utilizing SMOTE technique to handle the class imbalance."
   ]
  },
  {
   "cell_type": "code",
   "execution_count": 13,
   "metadata": {},
   "outputs": [],
   "source": [
    "sm = SMOTE(random_state=42)\n",
    "X = churn_high_value.drop(['churn'], axis='columns')\n",
    "y = churn_high_value['churn']\n",
    "X_res, y_res = sm.fit_resample(X, y)"
   ]
  },
  {
   "cell_type": "markdown",
   "metadata": {},
   "source": [
    "## Splitting and Scaling"
   ]
  },
  {
   "cell_type": "markdown",
   "metadata": {},
   "source": [
    "Splitting the dataset into train and test for accurate evalutaion of trained models."
   ]
  },
  {
   "cell_type": "code",
   "execution_count": 14,
   "metadata": {},
   "outputs": [],
   "source": [
    "X_train, X_test, y_train, y_test = train_test_split(X_res, y_res, test_size=0.1, stratify=y_res, random_state=42)"
   ]
  },
  {
   "cell_type": "markdown",
   "metadata": {},
   "source": [
    "Scaling the data for using Standard Scaler for speeding up the computation and normalizing the effect of different features."
   ]
  },
  {
   "cell_type": "code",
   "execution_count": 15,
   "metadata": {},
   "outputs": [],
   "source": [
    "scaler = StandardScaler()\n",
    "X_train_scaled = scaler.fit_transform(X_train)\n",
    "X_test_scaled = scaler.transform(X_test)"
   ]
  },
  {
   "cell_type": "markdown",
   "metadata": {},
   "source": [
    "## Dimensionality Reduction"
   ]
  },
  {
   "cell_type": "markdown",
   "metadata": {},
   "source": [
    "PCA used to reduce the number of variables used for modeling without losing out on all the information. Number of components for PCA is selected based on the total variance explained by them."
   ]
  },
  {
   "cell_type": "code",
   "execution_count": 16,
   "metadata": {},
   "outputs": [
    {
     "data": {
      "text/plain": [
       "[<matplotlib.lines.Line2D at 0x7f47e97c2358>]"
      ]
     },
     "execution_count": 16,
     "metadata": {},
     "output_type": "execute_result"
    },
    {
     "data": {
      "image/png": "[encoded data removed]",
      "text/plain": [
       "<Figure size 432x288 with 1 Axes>"
      ]
     },
     "metadata": {
      "needs_background": "light"
     },
     "output_type": "display_data"
    }
   ],
   "source": [
    "pca = PCA(n_components=100)\n",
    "pca.fit(X_train_scaled)\n",
    "var = np.cumsum(np.round(pca.explained_variance_ratio_, decimals=3)*100)\n",
    "\n",
    "plt.ylabel('% Variance Explained')\n",
    "plt.xlabel('# of Features')\n",
    "plt.title('PCA Analysis')\n",
    "plt.ylim(30,100.5)\n",
    "plt.style.context('seaborn-whitegrid')\n",
    "plt.plot(var)"
   ]
  },
  {
   "cell_type": "markdown",
   "metadata": {},
   "source": [
    "80 componenets explain more than 90% of the variance, hence it is chosen for dimensionality reduction."
   ]
  },
  {
   "cell_type": "code",
   "execution_count": 17,
   "metadata": {},
   "outputs": [],
   "source": [
    "pca = PCA(n_components=80)\n",
    "X_train_reduced = pca.fit_transform(X_train_scaled)\n",
    "X_test_reduced = pca.transform(X_test_scaled)"
   ]
  },
  {
   "cell_type": "markdown",
   "metadata": {},
   "source": [
    "## Logistic Regression\n",
    "\n",
    "**Execution time:** 1min approx"
   ]
  },
  {
   "cell_type": "code",
   "execution_count": 18,
   "metadata": {},
   "outputs": [
    {
     "name": "stdout",
     "output_type": "stream",
     "text": [
      "tuned hpyerparameters :(best parameters)  {'C': 100.0, 'penalty': 'l2'}\n",
      "auc score : 0.9178648426490736\n",
      "CPU times: user 1min 17s, sys: 47.7 s, total: 2min 5s\n",
      "Wall time: 58.5 s\n"
     ]
    }
   ],
   "source": [
    "%%time\n",
    "\n",
    "parameters = {\"C\": np.logspace(-3,3,7), \"penalty\": [\"l1\",\"l2\"]}\n",
    "logreg = LogisticRegression()\n",
    "clf = GridSearchCV(logreg, parameters, cv=5, scoring='roc_auc')\n",
    "clf.fit(X_train_reduced, y_train)\n",
    "\n",
    "print(\"tuned hpyerparameters :(best parameters) \",clf.best_params_)\n",
    "print(\"auc score :\",clf.best_score_)"
   ]
  },
  {
   "cell_type": "code",
   "execution_count": 19,
   "metadata": {},
   "outputs": [
    {
     "name": "stdout",
     "output_type": "stream",
     "text": [
      "              precision    recall  f1-score   support\n",
      "\n",
      "         0.0       0.86      0.85      0.86      2742\n",
      "         1.0       0.85      0.86      0.86      2742\n",
      "\n",
      "    accuracy                           0.86      5484\n",
      "   macro avg       0.86      0.86      0.86      5484\n",
      "weighted avg       0.86      0.86      0.86      5484\n",
      "\n",
      "0.8557622173595916\n"
     ]
    }
   ],
   "source": [
    "logreg = LogisticRegression(**clf.best_params_)\n",
    "logreg.fit(X_train_reduced, y_train)\n",
    "y_pred = logreg.predict(X_test_reduced)\n",
    "print(classification_report(y_test, y_pred))\n",
    "print(roc_auc_score(y_test, y_pred))"
   ]
  },
  {
   "cell_type": "markdown",
   "metadata": {},
   "source": [
    "## Naive Bayes"
   ]
  },
  {
   "cell_type": "code",
   "execution_count": 20,
   "metadata": {},
   "outputs": [
    {
     "name": "stdout",
     "output_type": "stream",
     "text": [
      "tuned hpyerparameters :(best parameters)  {}\n",
      "auc score : 0.8033596858255575\n",
      "CPU times: user 587 ms, sys: 497 ms, total: 1.08 s\n",
      "Wall time: 366 ms\n"
     ]
    }
   ],
   "source": [
    "%%time\n",
    "\n",
    "parameters = {}\n",
    "nb = GaussianNB()\n",
    "clf = GridSearchCV(nb, parameters, cv=5, scoring='roc_auc')\n",
    "clf.fit(X_train_reduced, y_train)\n",
    "\n",
    "print(\"tuned hpyerparameters :(best parameters) \",clf.best_params_)\n",
    "print(\"auc score :\",clf.best_score_)"
   ]
  },
  {
   "cell_type": "code",
   "execution_count": 21,
   "metadata": {},
   "outputs": [
    {
     "name": "stdout",
     "output_type": "stream",
     "text": [
      "              precision    recall  f1-score   support\n",
      "\n",
      "         0.0       0.78      0.41      0.54      2742\n",
      "         1.0       0.60      0.88      0.72      2742\n",
      "\n",
      "    accuracy                           0.65      5484\n",
      "   macro avg       0.69      0.65      0.63      5484\n",
      "weighted avg       0.69      0.65      0.63      5484\n",
      "\n",
      "0.6480671043034282\n"
     ]
    }
   ],
   "source": [
    "nb = GaussianNB()\n",
    "nb.fit(X_train_reduced, y_train)\n",
    "y_pred = nb.predict(X_test_reduced)\n",
    "print(classification_report(y_test, y_pred))\n",
    "print(roc_auc_score(y_test, y_pred))"
   ]
  },
  {
   "cell_type": "markdown",
   "metadata": {},
   "source": [
    "## Decision Trees\n",
    "\n",
    "**Execution time:** 15mins approx"
   ]
  },
  {
   "cell_type": "code",
   "execution_count": 22,
   "metadata": {},
   "outputs": [
    {
     "name": "stdout",
     "output_type": "stream",
     "text": [
      "tuned hpyerparameters :(best parameters)  {'max_depth': 14, 'min_samples_split': 80}\n",
      "auc score : 0.9158242576562046\n",
      "CPU times: user 12min 34s, sys: 146 ms, total: 12min 34s\n",
      "Wall time: 12min 34s\n"
     ]
    }
   ],
   "source": [
    "%%time\n",
    "\n",
    "parameters = {'min_samples_split' : range(10,100,10),'max_depth': range(10,20,2)}\n",
    "tree = DecisionTreeClassifier()\n",
    "clf = GridSearchCV(tree, param_grid = parameters, cv = 5, scoring='roc_auc')\n",
    "clf.fit(X_train_reduced, y_train)\n",
    "\n",
    "print(\"tuned hpyerparameters :(best parameters) \",clf.best_params_)\n",
    "print(\"auc score :\",clf.best_score_)"
   ]
  },
  {
   "cell_type": "code",
   "execution_count": 23,
   "metadata": {
    "scrolled": true
   },
   "outputs": [
    {
     "name": "stdout",
     "output_type": "stream",
     "text": [
      "              precision    recall  f1-score   support\n",
      "\n",
      "         0.0       0.87      0.84      0.86      2742\n",
      "         1.0       0.85      0.88      0.86      2742\n",
      "\n",
      "    accuracy                           0.86      5484\n",
      "   macro avg       0.86      0.86      0.86      5484\n",
      "weighted avg       0.86      0.86      0.86      5484\n",
      "\n",
      "0.8595915390226112\n"
     ]
    }
   ],
   "source": [
    "tree = DecisionTreeClassifier(**clf.best_params_)\n",
    "tree.fit(X_train_reduced, y_train)\n",
    "y_pred = tree.predict(X_test_reduced)\n",
    "print(classification_report(y_test, y_pred))\n",
    "print(roc_auc_score(y_test, y_pred))"
   ]
  },
  {
   "cell_type": "markdown",
   "metadata": {},
   "source": [
    "## XGBoost\n",
    "\n",
    "**Execution time:** 25mins approx"
   ]
  },
  {
   "cell_type": "code",
   "execution_count": 30,
   "metadata": {},
   "outputs": [
    {
     "name": "stdout",
     "output_type": "stream",
     "text": [
      "tuned hpyerparameters :(best parameters)  {'learning_rate': 0.6, 'subsample': 0.9}\n",
      "auc score : 0.9731682674578668\n",
      "CPU times: user 22min 17s, sys: 267 ms, total: 22min 17s\n",
      "Wall time: 22min 17s\n"
     ]
    }
   ],
   "source": [
    "%%time\n",
    "\n",
    "parameters = {'learning_rate': [0.2, 0.6], 'subsample': [0.6, 0.9]}          \n",
    "xgb = XGBClassifier(max_depth=2, n_estimators=1000)\n",
    "clf = GridSearchCV(estimator = xgb, \n",
    "                        param_grid = parameters, \n",
    "                        scoring= 'roc_auc', \n",
    "                        cv = 3, \n",
    "                        return_train_score=True)  \n",
    "clf.fit(X_train_reduced, y_train)\n",
    "\n",
    "print(\"tuned hpyerparameters :(best parameters) \",clf.best_params_)\n",
    "print(\"auc score :\",clf.best_score_)"
   ]
  },
  {
   "cell_type": "code",
   "execution_count": 31,
   "metadata": {},
   "outputs": [
    {
     "name": "stdout",
     "output_type": "stream",
     "text": [
      "              precision    recall  f1-score   support\n",
      "\n",
      "         0.0       0.96      0.92      0.94      2742\n",
      "         1.0       0.92      0.96      0.94      2742\n",
      "\n",
      "    accuracy                           0.94      5484\n",
      "   macro avg       0.94      0.94      0.94      5484\n",
      "weighted avg       0.94      0.94      0.94      5484\n",
      "\n",
      "0.9389132020423049\n"
     ]
    }
   ],
   "source": [
    "xgb = XGBClassifier(max_depth=2, n_estimators=1000, **clf.best_params_)\n",
    "xgb.fit(X_train_reduced, y_train)\n",
    "y_pred = xgb.predict(X_test_reduced)\n",
    "print(classification_report(y_test, y_pred))\n",
    "print(roc_auc_score(y_test, y_pred))"
   ]
  },
  {
   "cell_type": "markdown",
   "metadata": {},
   "source": [
    "## Tuning Champion model for better Recall Score"
   ]
  },
  {
   "cell_type": "markdown",
   "metadata": {},
   "source": [
    "It is more important to identify churners than the non-churners accurately so Recall Score should be maximized by identifying the proper threshold."
   ]
  },
  {
   "cell_type": "code",
   "execution_count": 32,
   "metadata": {},
   "outputs": [
    {
     "name": "stdout",
     "output_type": "stream",
     "text": [
      "              precision    recall  f1-score   support\n",
      "\n",
      "         0.0       0.97      0.91      0.94      2742\n",
      "         1.0       0.91      0.97      0.94      2742\n",
      "\n",
      "    accuracy                           0.94      5484\n",
      "   macro avg       0.94      0.94      0.94      5484\n",
      "weighted avg       0.94      0.94      0.94      5484\n",
      "\n",
      "0.9390955506929248\n",
      "0.9726477024070022\n"
     ]
    }
   ],
   "source": [
    "y_prob = xgb.predict_proba(X_test_reduced)[:, 1]\n",
    "y_pred = np.where(y_prob > 0.4, 1, 0)\n",
    "print(classification_report(y_test, y_pred))\n",
    "print(roc_auc_score(y_test, y_pred))\n",
    "print(recall_score(y_test, y_pred))"
   ]
  },
  {
   "cell_type": "markdown",
   "metadata": {},
   "source": [
    "## Important Features"
   ]
  },
  {
   "cell_type": "markdown",
   "metadata": {},
   "source": [
    "Decision tree used to identify variables which explain the most about who churn and who doesn't."
   ]
  },
  {
   "cell_type": "code",
   "execution_count": 27,
   "metadata": {},
   "outputs": [
    {
     "data": {
      "text/html": [
       "<div>\n",
       "<style scoped>\n",
       "    .dataframe tbody tr th:only-of-type {\n",
       "        vertical-align: middle;\n",
       "    }\n",
       "\n",
       "    .dataframe tbody tr th {\n",
       "        vertical-align: top;\n",
       "    }\n",
       "\n",
       "    .dataframe thead th {\n",
       "        text-align: right;\n",
       "    }\n",
       "</style>\n",
       "<table border=\"1\" class=\"dataframe\">\n",
       "  <thead>\n",
       "    <tr style=\"text-align: right;\">\n",
       "      <th></th>\n",
       "      <th>score</th>\n",
       "    </tr>\n",
       "  </thead>\n",
       "  <tbody>\n",
       "    <tr>\n",
       "      <th>roam_og_mou_8</th>\n",
       "      <td>0.483585</td>\n",
       "    </tr>\n",
       "    <tr>\n",
       "      <th>rech_recency_8</th>\n",
       "      <td>0.085110</td>\n",
       "    </tr>\n",
       "    <tr>\n",
       "      <th>max_rech_amt_8</th>\n",
       "      <td>0.076938</td>\n",
       "    </tr>\n",
       "    <tr>\n",
       "      <th>total_rech_amt_8</th>\n",
       "      <td>0.039669</td>\n",
       "    </tr>\n",
       "    <tr>\n",
       "      <th>last_day_rch_amt_8</th>\n",
       "      <td>0.026656</td>\n",
       "    </tr>\n",
       "    <tr>\n",
       "      <th>total_ic_mou_8</th>\n",
       "      <td>0.022672</td>\n",
       "    </tr>\n",
       "    <tr>\n",
       "      <th>arpu_7</th>\n",
       "      <td>0.008113</td>\n",
       "    </tr>\n",
       "    <tr>\n",
       "      <th>monthly_3g_8</th>\n",
       "      <td>0.007934</td>\n",
       "    </tr>\n",
       "    <tr>\n",
       "      <th>loc_ic_t2m_mou_7</th>\n",
       "      <td>0.007433</td>\n",
       "    </tr>\n",
       "    <tr>\n",
       "      <th>roam_ic_mou_8</th>\n",
       "      <td>0.006074</td>\n",
       "    </tr>\n",
       "    <tr>\n",
       "      <th>std_og_mou_7</th>\n",
       "      <td>0.005868</td>\n",
       "    </tr>\n",
       "    <tr>\n",
       "      <th>monthly_2g_8</th>\n",
       "      <td>0.005497</td>\n",
       "    </tr>\n",
       "    <tr>\n",
       "      <th>total_rech_num_7</th>\n",
       "      <td>0.005370</td>\n",
       "    </tr>\n",
       "    <tr>\n",
       "      <th>last_day_rch_amt_7</th>\n",
       "      <td>0.005178</td>\n",
       "    </tr>\n",
       "    <tr>\n",
       "      <th>spl_og_mou_6</th>\n",
       "      <td>0.005138</td>\n",
       "    </tr>\n",
       "    <tr>\n",
       "      <th>total_rech_num_6</th>\n",
       "      <td>0.004952</td>\n",
       "    </tr>\n",
       "    <tr>\n",
       "      <th>spl_og_mou_8</th>\n",
       "      <td>0.004680</td>\n",
       "    </tr>\n",
       "    <tr>\n",
       "      <th>total_og_mou_8</th>\n",
       "      <td>0.004574</td>\n",
       "    </tr>\n",
       "    <tr>\n",
       "      <th>rech_recency_6</th>\n",
       "      <td>0.004534</td>\n",
       "    </tr>\n",
       "    <tr>\n",
       "      <th>spl_og_mou_7</th>\n",
       "      <td>0.004438</td>\n",
       "    </tr>\n",
       "  </tbody>\n",
       "</table>\n",
       "</div>"
      ],
      "text/plain": [
       "                       score\n",
       "roam_og_mou_8       0.483585\n",
       "rech_recency_8      0.085110\n",
       "max_rech_amt_8      0.076938\n",
       "total_rech_amt_8    0.039669\n",
       "last_day_rch_amt_8  0.026656\n",
       "total_ic_mou_8      0.022672\n",
       "arpu_7              0.008113\n",
       "monthly_3g_8        0.007934\n",
       "loc_ic_t2m_mou_7    0.007433\n",
       "roam_ic_mou_8       0.006074\n",
       "std_og_mou_7        0.005868\n",
       "monthly_2g_8        0.005497\n",
       "total_rech_num_7    0.005370\n",
       "last_day_rch_amt_7  0.005178\n",
       "spl_og_mou_6        0.005138\n",
       "total_rech_num_6    0.004952\n",
       "spl_og_mou_8        0.004680\n",
       "total_og_mou_8      0.004574\n",
       "rech_recency_6      0.004534\n",
       "spl_og_mou_7        0.004438"
      ]
     },
     "execution_count": 27,
     "metadata": {},
     "output_type": "execute_result"
    }
   ],
   "source": [
    "importance = DecisionTreeClassifier(random_state=0)\n",
    "importance = importance.fit(np.concatenate((X_train_scaled, X_test_scaled), axis=0), np.concatenate((y_train, y_test), axis=0))\n",
    "\n",
    "pd.DataFrame(importance.feature_importances_, index=X.columns, columns=['score']).sort_values(by='score', ascending=False)[:20]"
   ]
  },
  {
   "cell_type": "code",
   "execution_count": null,
   "metadata": {},
   "outputs": [],
   "source": []
  },
  {
   "cell_type": "code",
   "execution_count": null,
   "metadata": {},
   "outputs": [],
   "source": []
  },
  {
   "cell_type": "markdown",
   "metadata": {},
   "source": [
    "## SVC"
   ]
  },
  {
   "cell_type": "code",
   "execution_count": null,
   "metadata": {},
   "outputs": [],
   "source": [
    "%%time\n",
    "\n",
    "parameters = {'C': [1, 10]}\n",
    "svc = svm.SVC(kernel='rbf', gamma=\"scale\")\n",
    "clf = GridSearchCV(svc, parameters, cv=3, scoring='roc_auc')\n",
    "clf.fit(X_train_reduced, y_train)\n",
    "\n",
    "print(\"tuned hpyerparameters :(best parameters) \",clf.best_params_)\n",
    "print(\"auc score :\",clf.best_score_)"
   ]
  },
  {
   "cell_type": "code",
   "execution_count": null,
   "metadata": {},
   "outputs": [],
   "source": [
    "clf.best_score_"
   ]
  },
  {
   "cell_type": "code",
   "execution_count": null,
   "metadata": {},
   "outputs": [],
   "source": [
    "clf.best_params_"
   ]
  },
  {
   "cell_type": "code",
   "execution_count": null,
   "metadata": {},
   "outputs": [],
   "source": [
    "svc = svm.SVC(C=clf.best_params_['C'], kernel=clf.best_params_['kernel'], gamma='scale')\n",
    "svc.fit(X_train_reduced, y_train)"
   ]
  },
  {
   "cell_type": "code",
   "execution_count": null,
   "metadata": {},
   "outputs": [],
   "source": [
    "y_pred = svc.predict(X_test_reduced)\n",
    "print(classification_report(y_test, y_pred))\n",
    "print(roc_auc_score(y_test, y_pred))"
   ]
  },
  {
   "cell_type": "code",
   "execution_count": null,
   "metadata": {},
   "outputs": [],
   "source": [
    "y_pred = svc.predict(X_train_reduced)\n",
    "roc_auc_score(y_train, y_pred)"
   ]
  },
  {
   "cell_type": "code",
   "execution_count": null,
   "metadata": {},
   "outputs": [],
   "source": []
  }
 ],
 "metadata": {
  "kernelspec": {
   "display_name": "Python 3",
   "language": "python",
   "name": "python3"
  },
  "language_info": {
   "codemirror_mode": {
    "name": "ipython",
    "version": 3
   },
   "file_extension": ".py",
   "mimetype": "text/x-python",
   "name": "python",
   "nbconvert_exporter": "python",
   "pygments_lexer": "ipython3",
   "version": "3.7.3"
  }
 },
 "nbformat": 4,
 "nbformat_minor": 2
}
